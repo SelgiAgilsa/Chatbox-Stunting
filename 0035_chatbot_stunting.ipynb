{
  "cells": [
    {
      "cell_type": "markdown",
      "metadata": {
        "id": "view-in-github",
        "colab_type": "text"
      },
      "source": [
        "<a href=\"https://colab.research.google.com/github/SelgiAgilsa/Chatbox-Stunting/blob/main/0035_chatbot_stunting.ipynb\" target=\"_parent\"><img src=\"https://colab.research.google.com/assets/colab-badge.svg\" alt=\"Open In Colab\"/></a>"
      ]
    },
    {
      "cell_type": "markdown",
      "metadata": {
        "id": "w_DrnkwFlT-G"
      },
      "source": [
        "**Rasa is Opensource Machine Learning framework used for developing AI based chatbot.**\n"
      ]
    },
    {
      "cell_type": "markdown",
      "source": [
        "There are 2 choices for the alternative python3 (providing /usr/bin/python3).\n",
        "setelah eksekusi pilihlah angka 0\n",
        "\n",
        "Press <enter> to keep the current choice[*], or type selection number: 0 <==== masukkan pilihan 0"
      ],
      "metadata": {
        "id": "IPurEFXpGkG-"
      }
    },
    {
      "cell_type": "code",
      "source": [
        "!sudo update-alternatives --config python3"
      ],
      "metadata": {
        "colab": {
          "base_uri": "https://localhost:8080/"
        },
        "id": "D8Ye8MvB3nQb",
        "outputId": "29f4fd36-320d-4b91-8b96-e07e5f912764"
      },
      "execution_count": 1,
      "outputs": [
        {
          "output_type": "stream",
          "name": "stdout",
          "text": [
            "There are 2 choices for the alternative python3 (providing /usr/bin/python3).\n",
            "\n",
            "  Selection    Path                Priority   Status\n",
            "------------------------------------------------------------\n",
            "* 0            /usr/bin/python3.8   2         auto mode\n",
            "  1            /usr/bin/python3.6   1         manual mode\n",
            "  2            /usr/bin/python3.8   2         manual mode\n",
            "\n",
            "Press <enter> to keep the current choice[*], or type selection number: 0\n"
          ]
        }
      ]
    },
    {
      "cell_type": "code",
      "source": [],
      "metadata": {
        "id": "KdDCmNsN3yw4"
      },
      "execution_count": null,
      "outputs": []
    },
    {
      "cell_type": "code",
      "source": [
        "!pip install prompt-toolkit==2.0.1"
      ],
      "metadata": {
        "colab": {
          "base_uri": "https://localhost:8080/"
        },
        "id": "zpPAN3xh50tO",
        "outputId": "4f794f5b-1e2f-4de8-f707-9aae763561ff"
      },
      "execution_count": 2,
      "outputs": [
        {
          "output_type": "stream",
          "name": "stdout",
          "text": [
            "Looking in indexes: https://pypi.org/simple, https://us-python.pkg.dev/colab-wheels/public/simple/\n",
            "Requirement already satisfied: prompt-toolkit==2.0.1 in /usr/local/lib/python3.8/dist-packages (2.0.1)\n",
            "Requirement already satisfied: wcwidth in /usr/local/lib/python3.8/dist-packages (from prompt-toolkit==2.0.1) (0.2.5)\n",
            "Requirement already satisfied: six>=1.9.0 in /usr/local/lib/python3.8/dist-packages (from prompt-toolkit==2.0.1) (1.15.0)\n"
          ]
        }
      ]
    },
    {
      "cell_type": "code",
      "execution_count": 3,
      "metadata": {
        "colab": {
          "base_uri": "https://localhost:8080/"
        },
        "id": "ffcul5QcvbFr",
        "outputId": "fd031025-a946-43fd-da57-f8fb56a86df2"
      },
      "outputs": [
        {
          "output_type": "stream",
          "name": "stdout",
          "text": [
            "Looking in indexes: https://pypi.org/simple, https://us-python.pkg.dev/colab-wheels/public/simple/\n",
            "Requirement already satisfied: rasa==2.0.1 in /usr/local/lib/python3.8/dist-packages (2.0.1)\n",
            "Requirement already satisfied: scipy<2.0.0,>=1.4.1 in /usr/local/lib/python3.8/dist-packages (from rasa==2.0.1) (1.7.3)\n",
            "Requirement already satisfied: ruamel.yaml<0.17,>=0.16 in /usr/local/lib/python3.8/dist-packages (from rasa==2.0.1) (0.16.13)\n",
            "Requirement already satisfied: boto3<2.0,>=1.12 in /usr/local/lib/python3.8/dist-packages (from rasa==2.0.1) (1.26.37)\n",
            "Requirement already satisfied: networkx<2.6,>=2.4 in /usr/local/lib/python3.8/dist-packages (from rasa==2.0.1) (2.5.1)\n",
            "Requirement already satisfied: pykwalify<1.8.0,>=1.7.0 in /usr/local/lib/python3.8/dist-packages (from rasa==2.0.1) (1.7.0)\n",
            "Requirement already satisfied: sanic-cors<0.11.0,>=0.10.0b1 in /usr/local/lib/python3.8/dist-packages (from rasa==2.0.1) (0.10.0.post3)\n",
            "Requirement already satisfied: pika<1.2.0,>=1.1.0 in /usr/local/lib/python3.8/dist-packages (from rasa==2.0.1) (1.1.0)\n",
            "Requirement already satisfied: colorhash<1.1.0,>=1.0.2 in /usr/local/lib/python3.8/dist-packages (from rasa==2.0.1) (1.0.4)\n",
            "Requirement already satisfied: fbmessenger<6.1.0,>=6.0.0 in /usr/local/lib/python3.8/dist-packages (from rasa==2.0.1) (6.0.0)\n",
            "Requirement already satisfied: SQLAlchemy<1.4.0,>=1.3.3 in /usr/local/lib/python3.8/dist-packages (from rasa==2.0.1) (1.3.24)\n",
            "Requirement already satisfied: rocketchat_API<1.10.0,>=0.6.31 in /usr/local/lib/python3.8/dist-packages (from rasa==2.0.1) (1.9.1)\n",
            "Requirement already satisfied: pytz<2021.0,>=2019.1 in /usr/local/lib/python3.8/dist-packages (from rasa==2.0.1) (2020.5)\n",
            "Requirement already satisfied: jsonpickle<1.5,>=1.3 in /usr/local/lib/python3.8/dist-packages (from rasa==2.0.1) (1.4.2)\n",
            "Requirement already satisfied: PyJWT<1.8,>=1.7 in /usr/local/lib/python3.8/dist-packages (from rasa==2.0.1) (1.7.1)\n",
            "Requirement already satisfied: python-socketio<4.7,>=4.4 in /usr/local/lib/python3.8/dist-packages (from rasa==2.0.1) (4.6.1)\n",
            "Requirement already satisfied: twilio<6.46,>=6.26 in /usr/local/lib/python3.8/dist-packages (from rasa==2.0.1) (6.45.4)\n",
            "Requirement already satisfied: coloredlogs<15,>=10 in /usr/local/lib/python3.8/dist-packages (from rasa==2.0.1) (14.3)\n",
            "Requirement already satisfied: numpy<2.0,>=1.16 in /usr/local/lib/python3.8/dist-packages (from rasa==2.0.1) (1.18.5)\n",
            "Requirement already satisfied: python-telegram-bot<13.0,>=11.1 in /usr/local/lib/python3.8/dist-packages (from rasa==2.0.1) (12.8)\n",
            "Requirement already satisfied: rasa-sdk<3.0.0,>=2.0.0 in /usr/local/lib/python3.8/dist-packages (from rasa==2.0.1) (2.8.6)\n",
            "Requirement already satisfied: questionary<1.6.0,>=1.5.1 in /usr/local/lib/python3.8/dist-packages (from rasa==2.0.1) (1.5.2)\n",
            "Requirement already satisfied: redis<4.0,>=3.4 in /usr/local/lib/python3.8/dist-packages (from rasa==2.0.1) (3.5.3)\n",
            "Requirement already satisfied: pydot<1.5,>=1.4 in /usr/local/lib/python3.8/dist-packages (from rasa==2.0.1) (1.4.2)\n",
            "Requirement already satisfied: regex<2020.10,>=2020.6 in /usr/local/lib/python3.8/dist-packages (from rasa==2.0.1) (2020.9.27)\n",
            "Requirement already satisfied: kafka-python<3.0,>=1.4 in /usr/local/lib/python3.8/dist-packages (from rasa==2.0.1) (2.0.2)\n",
            "Requirement already satisfied: sanic-jwt<1.5.0,>=1.3.2 in /usr/local/lib/python3.8/dist-packages (from rasa==2.0.1) (1.4.1)\n",
            "Requirement already satisfied: psycopg2-binary<2.9.0,>=2.8.2 in /usr/local/lib/python3.8/dist-packages (from rasa==2.0.1) (2.8.6)\n",
            "Requirement already satisfied: webexteamssdk<1.7.0,>=1.1.1 in /usr/local/lib/python3.8/dist-packages (from rasa==2.0.1) (1.6.1)\n",
            "Requirement already satisfied: tensorflow-probability<0.12,>=0.11 in /usr/local/lib/python3.8/dist-packages (from rasa==2.0.1) (0.11.1)\n",
            "Requirement already satisfied: setuptools>=41.0.0 in /usr/local/lib/python3.8/dist-packages (from rasa==2.0.1) (57.4.0)\n",
            "Requirement already satisfied: tensorflow-addons<=0.12,>=0.10 in /usr/local/lib/python3.8/dist-packages (from rasa==2.0.1) (0.12.0)\n",
            "Requirement already satisfied: attrs<20.3,>=19.3 in /usr/local/lib/python3.8/dist-packages (from rasa==2.0.1) (20.2.0)\n",
            "Requirement already satisfied: tensorflow-estimator<2.4,>=2.3 in /usr/local/lib/python3.8/dist-packages (from rasa==2.0.1) (2.3.0)\n",
            "Requirement already satisfied: tensorflow_hub<0.10,>=0.9 in /usr/local/lib/python3.8/dist-packages (from rasa==2.0.1) (0.9.0)\n",
            "Requirement already satisfied: cloudpickle<1.5,>=1.2 in /usr/local/lib/python3.8/dist-packages (from rasa==2.0.1) (1.4.1)\n",
            "Requirement already satisfied: prompt-toolkit<3.0,>=2.0 in /usr/local/lib/python3.8/dist-packages (from rasa==2.0.1) (2.0.1)\n",
            "Requirement already satisfied: oauth2client==4.1.3 in /usr/local/lib/python3.8/dist-packages (from rasa==2.0.1) (4.1.3)\n",
            "Requirement already satisfied: aiohttp<3.7,>=3.6 in /usr/local/lib/python3.8/dist-packages (from rasa==2.0.1) (3.6.3)\n",
            "Requirement already satisfied: pymongo[srv,tls]<3.11,>=3.8 in /usr/local/lib/python3.8/dist-packages (from rasa==2.0.1) (3.10.1)\n",
            "Requirement already satisfied: python-dateutil<2.9,>=2.8 in /usr/local/lib/python3.8/dist-packages (from rasa==2.0.1) (2.8.2)\n",
            "Requirement already satisfied: jsonschema<3.3,>=3.2 in /usr/local/lib/python3.8/dist-packages (from rasa==2.0.1) (3.2.0)\n",
            "Requirement already satisfied: packaging<21.0,>=20.0 in /usr/local/lib/python3.8/dist-packages (from rasa==2.0.1) (20.9)\n",
            "Requirement already satisfied: colorclass<2.3,>=2.2 in /usr/local/lib/python3.8/dist-packages (from rasa==2.0.1) (2.2.2)\n",
            "Requirement already satisfied: tensorflow<2.4,>=2.3 in /usr/local/lib/python3.8/dist-packages (from rasa==2.0.1) (2.3.4)\n",
            "Requirement already satisfied: tensorflow-text<2.4,>=2.3 in /usr/local/lib/python3.8/dist-packages (from rasa==2.0.1) (2.3.0)\n",
            "Requirement already satisfied: tqdm<4.51,>=4.31 in /usr/local/lib/python3.8/dist-packages (from rasa==2.0.1) (4.50.2)\n",
            "Requirement already satisfied: slackclient<3.0.0,>=2.0.0 in /usr/local/lib/python3.8/dist-packages (from rasa==2.0.1) (2.9.4)\n",
            "Requirement already satisfied: terminaltables<3.2.0,>=3.1.0 in /usr/local/lib/python3.8/dist-packages (from rasa==2.0.1) (3.1.10)\n",
            "Requirement already satisfied: joblib<0.16.0,>=0.15.1 in /usr/local/lib/python3.8/dist-packages (from rasa==2.0.1) (0.15.1)\n",
            "Requirement already satisfied: apscheduler<3.7,>=3.6 in /usr/local/lib/python3.8/dist-packages (from rasa==2.0.1) (3.6.3)\n",
            "Requirement already satisfied: multidict<5.0,>=4.6 in /usr/local/lib/python3.8/dist-packages (from rasa==2.0.1) (4.7.6)\n",
            "Requirement already satisfied: ujson<4.0,>=1.35 in /usr/local/lib/python3.8/dist-packages (from rasa==2.0.1) (3.2.0)\n",
            "Requirement already satisfied: async_generator<1.11,>=1.10 in /usr/local/lib/python3.8/dist-packages (from rasa==2.0.1) (1.10)\n",
            "Requirement already satisfied: sentry-sdk<0.18.0,>=0.17.4 in /usr/local/lib/python3.8/dist-packages (from rasa==2.0.1) (0.17.8)\n",
            "Requirement already satisfied: python-engineio<3.14,>=3.11 in /usr/local/lib/python3.8/dist-packages (from rasa==2.0.1) (3.13.2)\n",
            "Requirement already satisfied: scikit-learn<0.24,>=0.22 in /usr/local/lib/python3.8/dist-packages (from rasa==2.0.1) (0.23.2)\n",
            "Requirement already satisfied: sklearn-crfsuite<0.4,>=0.3 in /usr/local/lib/python3.8/dist-packages (from rasa==2.0.1) (0.3.6)\n",
            "Requirement already satisfied: requests<3.0,>=2.23 in /usr/local/lib/python3.8/dist-packages (from rasa==2.0.1) (2.28.1)\n",
            "Requirement already satisfied: mattermostwrapper<2.3,>=2.2 in /usr/local/lib/python3.8/dist-packages (from rasa==2.0.1) (2.2)\n",
            "Requirement already satisfied: sanic<21.0.0,>=19.12.2 in /usr/local/lib/python3.8/dist-packages (from rasa==2.0.1) (20.9.0)\n",
            "Requirement already satisfied: matplotlib<3.4,>=3.1 in /usr/local/lib/python3.8/dist-packages (from rasa==2.0.1) (3.2.2)\n",
            "Requirement already satisfied: absl-py<0.11,>=0.9 in /usr/local/lib/python3.8/dist-packages (from rasa==2.0.1) (0.10.0)\n",
            "Requirement already satisfied: six>=1.6.1 in /usr/local/lib/python3.8/dist-packages (from oauth2client==4.1.3->rasa==2.0.1) (1.15.0)\n",
            "Requirement already satisfied: pyasn1>=0.1.7 in /usr/local/lib/python3.8/dist-packages (from oauth2client==4.1.3->rasa==2.0.1) (0.4.8)\n",
            "Requirement already satisfied: pyasn1-modules>=0.0.5 in /usr/local/lib/python3.8/dist-packages (from oauth2client==4.1.3->rasa==2.0.1) (0.2.8)\n",
            "Requirement already satisfied: rsa>=3.1.4 in /usr/local/lib/python3.8/dist-packages (from oauth2client==4.1.3->rasa==2.0.1) (4.9)\n",
            "Requirement already satisfied: httplib2>=0.9.1 in /usr/local/lib/python3.8/dist-packages (from oauth2client==4.1.3->rasa==2.0.1) (0.17.4)\n",
            "Requirement already satisfied: yarl<1.6.0,>=1.0 in /usr/local/lib/python3.8/dist-packages (from aiohttp<3.7,>=3.6->rasa==2.0.1) (1.5.1)\n",
            "Requirement already satisfied: async-timeout<4.0,>=3.0 in /usr/local/lib/python3.8/dist-packages (from aiohttp<3.7,>=3.6->rasa==2.0.1) (3.0.1)\n",
            "Requirement already satisfied: chardet<4.0,>=2.0 in /usr/local/lib/python3.8/dist-packages (from aiohttp<3.7,>=3.6->rasa==2.0.1) (3.0.4)\n",
            "Requirement already satisfied: tzlocal>=1.2 in /usr/local/lib/python3.8/dist-packages (from apscheduler<3.7,>=3.6->rasa==2.0.1) (1.5.1)\n",
            "Requirement already satisfied: botocore<1.30.0,>=1.29.37 in /usr/local/lib/python3.8/dist-packages (from boto3<2.0,>=1.12->rasa==2.0.1) (1.29.37)\n",
            "Requirement already satisfied: jmespath<2.0.0,>=0.7.1 in /usr/local/lib/python3.8/dist-packages (from boto3<2.0,>=1.12->rasa==2.0.1) (1.0.1)\n",
            "Requirement already satisfied: s3transfer<0.7.0,>=0.6.0 in /usr/local/lib/python3.8/dist-packages (from boto3<2.0,>=1.12->rasa==2.0.1) (0.6.0)\n",
            "Requirement already satisfied: urllib3<1.27,>=1.25.4 in /usr/local/lib/python3.8/dist-packages (from botocore<1.30.0,>=1.29.37->boto3<2.0,>=1.12->rasa==2.0.1) (1.26.13)\n",
            "Requirement already satisfied: humanfriendly>=7.1 in /usr/local/lib/python3.8/dist-packages (from coloredlogs<15,>=10->rasa==2.0.1) (10.0)\n",
            "Requirement already satisfied: pyrsistent>=0.14.0 in /usr/local/lib/python3.8/dist-packages (from jsonschema<3.3,>=3.2->rasa==2.0.1) (0.19.2)\n",
            "Requirement already satisfied: pyparsing!=2.0.4,!=2.1.2,!=2.1.6,>=2.0.1 in /usr/local/lib/python3.8/dist-packages (from matplotlib<3.4,>=3.1->rasa==2.0.1) (3.0.9)\n",
            "Requirement already satisfied: kiwisolver>=1.0.1 in /usr/local/lib/python3.8/dist-packages (from matplotlib<3.4,>=3.1->rasa==2.0.1) (1.4.4)\n",
            "Requirement already satisfied: cycler>=0.10 in /usr/local/lib/python3.8/dist-packages (from matplotlib<3.4,>=3.1->rasa==2.0.1) (0.11.0)\n",
            "Requirement already satisfied: decorator<5,>=4.3 in /usr/local/lib/python3.8/dist-packages (from networkx<2.6,>=2.4->rasa==2.0.1) (4.4.2)\n",
            "Requirement already satisfied: wcwidth in /usr/local/lib/python3.8/dist-packages (from prompt-toolkit<3.0,>=2.0->rasa==2.0.1) (0.2.5)\n",
            "Requirement already satisfied: docopt>=0.6.2 in /usr/local/lib/python3.8/dist-packages (from pykwalify<1.8.0,>=1.7.0->rasa==2.0.1) (0.6.2)\n",
            "Requirement already satisfied: PyYAML>=3.11 in /usr/local/lib/python3.8/dist-packages (from pykwalify<1.8.0,>=1.7.0->rasa==2.0.1) (6.0)\n",
            "Requirement already satisfied: dnspython<2.0.0,>=1.16.0 in /usr/local/lib/python3.8/dist-packages (from pymongo[srv,tls]<3.11,>=3.8->rasa==2.0.1) (1.16.0)\n",
            "Requirement already satisfied: cryptography in /usr/local/lib/python3.8/dist-packages (from python-telegram-bot<13.0,>=11.1->rasa==2.0.1) (38.0.4)\n",
            "Requirement already satisfied: certifi in /usr/local/lib/python3.8/dist-packages (from python-telegram-bot<13.0,>=11.1->rasa==2.0.1) (2022.12.7)\n",
            "Requirement already satisfied: tornado>=5.1 in /usr/local/lib/python3.8/dist-packages (from python-telegram-bot<13.0,>=11.1->rasa==2.0.1) (6.0.4)\n",
            "Requirement already satisfied: uvloop<0.15.0 in /usr/local/lib/python3.8/dist-packages (from rasa-sdk<3.0.0,>=2.0.0->rasa==2.0.1) (0.14.0)\n",
            "Requirement already satisfied: typing-extensions<4.0.0,>=3.7.4 in /usr/local/lib/python3.8/dist-packages (from rasa-sdk<3.0.0,>=2.0.0->rasa==2.0.1) (3.10.0.2)\n",
            "Requirement already satisfied: idna<4,>=2.5 in /usr/local/lib/python3.8/dist-packages (from requests<3.0,>=2.23->rasa==2.0.1) (2.10)\n",
            "Requirement already satisfied: charset-normalizer<3,>=2 in /usr/local/lib/python3.8/dist-packages (from requests<3.0,>=2.23->rasa==2.0.1) (2.1.1)\n",
            "Requirement already satisfied: ruamel.yaml.clib>=0.1.2 in /usr/local/lib/python3.8/dist-packages (from ruamel.yaml<0.17,>=0.16->rasa==2.0.1) (0.2.7)\n",
            "Requirement already satisfied: httpx==0.15.4 in /usr/local/lib/python3.8/dist-packages (from sanic<21.0.0,>=19.12.2->rasa==2.0.1) (0.15.4)\n",
            "Requirement already satisfied: httptools>=0.0.10 in /usr/local/lib/python3.8/dist-packages (from sanic<21.0.0,>=19.12.2->rasa==2.0.1) (0.5.0)\n",
            "Requirement already satisfied: websockets<9.0,>=8.1 in /usr/local/lib/python3.8/dist-packages (from sanic<21.0.0,>=19.12.2->rasa==2.0.1) (8.1)\n",
            "Requirement already satisfied: aiofiles>=0.3.0 in /usr/local/lib/python3.8/dist-packages (from sanic<21.0.0,>=19.12.2->rasa==2.0.1) (22.1.0)\n",
            "Requirement already satisfied: httpcore==0.11.* in /usr/local/lib/python3.8/dist-packages (from httpx==0.15.4->sanic<21.0.0,>=19.12.2->rasa==2.0.1) (0.11.1)\n",
            "Requirement already satisfied: rfc3986[idna2008]<2,>=1.3 in /usr/local/lib/python3.8/dist-packages (from httpx==0.15.4->sanic<21.0.0,>=19.12.2->rasa==2.0.1) (1.5.0)\n",
            "Requirement already satisfied: sniffio in /usr/local/lib/python3.8/dist-packages (from httpx==0.15.4->sanic<21.0.0,>=19.12.2->rasa==2.0.1) (1.3.0)\n",
            "Requirement already satisfied: h11<0.10,>=0.8 in /usr/local/lib/python3.8/dist-packages (from httpcore==0.11.*->httpx==0.15.4->sanic<21.0.0,>=19.12.2->rasa==2.0.1) (0.9.0)\n",
            "Requirement already satisfied: sanic-plugins-framework>=0.9.0 in /usr/local/lib/python3.8/dist-packages (from sanic-cors<0.11.0,>=0.10.0b1->rasa==2.0.1) (0.9.5)\n",
            "Requirement already satisfied: threadpoolctl>=2.0.0 in /usr/local/lib/python3.8/dist-packages (from scikit-learn<0.24,>=0.22->rasa==2.0.1) (3.1.0)\n",
            "Requirement already satisfied: python-crfsuite>=0.8.3 in /usr/local/lib/python3.8/dist-packages (from sklearn-crfsuite<0.4,>=0.3->rasa==2.0.1) (0.9.8)\n",
            "Requirement already satisfied: tabulate in /usr/local/lib/python3.8/dist-packages (from sklearn-crfsuite<0.4,>=0.3->rasa==2.0.1) (0.8.10)\n",
            "Requirement already satisfied: grpcio>=1.8.6 in /usr/local/lib/python3.8/dist-packages (from tensorflow<2.4,>=2.3->rasa==2.0.1) (1.51.1)\n",
            "Requirement already satisfied: protobuf>=3.9.2 in /usr/local/lib/python3.8/dist-packages (from tensorflow<2.4,>=2.3->rasa==2.0.1) (3.19.6)\n",
            "Requirement already satisfied: termcolor>=1.1.0 in /usr/local/lib/python3.8/dist-packages (from tensorflow<2.4,>=2.3->rasa==2.0.1) (2.1.1)\n",
            "Requirement already satisfied: opt-einsum>=2.3.2 in /usr/local/lib/python3.8/dist-packages (from tensorflow<2.4,>=2.3->rasa==2.0.1) (3.3.0)\n",
            "Requirement already satisfied: astunparse==1.6.3 in /usr/local/lib/python3.8/dist-packages (from tensorflow<2.4,>=2.3->rasa==2.0.1) (1.6.3)\n",
            "Requirement already satisfied: wrapt>=1.11.1 in /usr/local/lib/python3.8/dist-packages (from tensorflow<2.4,>=2.3->rasa==2.0.1) (1.14.1)\n",
            "Requirement already satisfied: gast==0.3.3 in /usr/local/lib/python3.8/dist-packages (from tensorflow<2.4,>=2.3->rasa==2.0.1) (0.3.3)\n",
            "Requirement already satisfied: wheel>=0.26 in /usr/local/lib/python3.8/dist-packages (from tensorflow<2.4,>=2.3->rasa==2.0.1) (0.38.4)\n",
            "Requirement already satisfied: google-pasta>=0.1.8 in /usr/local/lib/python3.8/dist-packages (from tensorflow<2.4,>=2.3->rasa==2.0.1) (0.2.0)\n",
            "Requirement already satisfied: h5py<2.11.0,>=2.10.0 in /usr/local/lib/python3.8/dist-packages (from tensorflow<2.4,>=2.3->rasa==2.0.1) (2.10.0)\n",
            "Requirement already satisfied: keras-preprocessing<1.2,>=1.1.1 in /usr/local/lib/python3.8/dist-packages (from tensorflow<2.4,>=2.3->rasa==2.0.1) (1.1.2)\n",
            "Requirement already satisfied: tensorboard<3,>=2.3.0 in /usr/local/lib/python3.8/dist-packages (from tensorflow<2.4,>=2.3->rasa==2.0.1) (2.9.1)\n",
            "Requirement already satisfied: markdown>=2.6.8 in /usr/local/lib/python3.8/dist-packages (from tensorboard<3,>=2.3.0->tensorflow<2.4,>=2.3->rasa==2.0.1) (3.4.1)\n",
            "Requirement already satisfied: google-auth-oauthlib<0.5,>=0.4.1 in /usr/local/lib/python3.8/dist-packages (from tensorboard<3,>=2.3.0->tensorflow<2.4,>=2.3->rasa==2.0.1) (0.4.6)\n",
            "Requirement already satisfied: werkzeug>=1.0.1 in /usr/local/lib/python3.8/dist-packages (from tensorboard<3,>=2.3.0->tensorflow<2.4,>=2.3->rasa==2.0.1) (1.0.1)\n",
            "Requirement already satisfied: tensorboard-data-server<0.7.0,>=0.6.0 in /usr/local/lib/python3.8/dist-packages (from tensorboard<3,>=2.3.0->tensorflow<2.4,>=2.3->rasa==2.0.1) (0.6.1)\n",
            "Requirement already satisfied: google-auth<3,>=1.6.3 in /usr/local/lib/python3.8/dist-packages (from tensorboard<3,>=2.3.0->tensorflow<2.4,>=2.3->rasa==2.0.1) (2.15.0)\n",
            "Requirement already satisfied: tensorboard-plugin-wit>=1.6.0 in /usr/local/lib/python3.8/dist-packages (from tensorboard<3,>=2.3.0->tensorflow<2.4,>=2.3->rasa==2.0.1) (1.8.1)\n",
            "Requirement already satisfied: cachetools<6.0,>=2.0.0 in /usr/local/lib/python3.8/dist-packages (from google-auth<3,>=1.6.3->tensorboard<3,>=2.3.0->tensorflow<2.4,>=2.3->rasa==2.0.1) (5.2.0)\n",
            "Requirement already satisfied: requests-oauthlib>=0.7.0 in /usr/local/lib/python3.8/dist-packages (from google-auth-oauthlib<0.5,>=0.4.1->tensorboard<3,>=2.3.0->tensorflow<2.4,>=2.3->rasa==2.0.1) (1.3.1)\n",
            "Requirement already satisfied: importlib-metadata>=4.4 in /usr/local/lib/python3.8/dist-packages (from markdown>=2.6.8->tensorboard<3,>=2.3.0->tensorflow<2.4,>=2.3->rasa==2.0.1) (5.1.0)\n",
            "Requirement already satisfied: zipp>=0.5 in /usr/local/lib/python3.8/dist-packages (from importlib-metadata>=4.4->markdown>=2.6.8->tensorboard<3,>=2.3.0->tensorflow<2.4,>=2.3->rasa==2.0.1) (3.11.0)\n",
            "Requirement already satisfied: oauthlib>=3.0.0 in /usr/local/lib/python3.8/dist-packages (from requests-oauthlib>=0.7.0->google-auth-oauthlib<0.5,>=0.4.1->tensorboard<3,>=2.3.0->tensorflow<2.4,>=2.3->rasa==2.0.1) (3.2.2)\n",
            "Requirement already satisfied: typeguard>=2.7 in /usr/local/lib/python3.8/dist-packages (from tensorflow-addons<=0.12,>=0.10->rasa==2.0.1) (2.7.1)\n",
            "Requirement already satisfied: dm-tree in /usr/local/lib/python3.8/dist-packages (from tensorflow-probability<0.12,>=0.11->rasa==2.0.1) (0.1.7)\n",
            "Requirement already satisfied: requests-toolbelt in /usr/local/lib/python3.8/dist-packages (from webexteamssdk<1.7.0,>=1.1.1->rasa==2.0.1) (0.10.1)\n",
            "Requirement already satisfied: future in /usr/local/lib/python3.8/dist-packages (from webexteamssdk<1.7.0,>=1.1.1->rasa==2.0.1) (0.16.0)\n",
            "Requirement already satisfied: cffi>=1.12 in /usr/local/lib/python3.8/dist-packages (from cryptography->python-telegram-bot<13.0,>=11.1->rasa==2.0.1) (1.15.1)\n",
            "Requirement already satisfied: pycparser in /usr/local/lib/python3.8/dist-packages (from cffi>=1.12->cryptography->python-telegram-bot<13.0,>=11.1->rasa==2.0.1) (2.21)\n"
          ]
        }
      ],
      "source": [
        "!pip install rasa==2.0.1"
      ]
    },
    {
      "cell_type": "markdown",
      "source": [
        "setelah eksekusi pilihlah \"RESTART RUNTIME\" "
      ],
      "metadata": {
        "id": "o2FU2bwOHGMZ"
      }
    },
    {
      "cell_type": "code",
      "source": [],
      "metadata": {
        "id": "2yVNrhA6G9kN"
      },
      "execution_count": null,
      "outputs": []
    },
    {
      "cell_type": "code",
      "source": [
        "!pip install -U ipython===7.9.0"
      ],
      "metadata": {
        "id": "nFhG2EqR-ceB",
        "outputId": "16fed50b-50c1-4aea-db0b-036f3b3128a9",
        "colab": {
          "base_uri": "https://localhost:8080/"
        }
      },
      "execution_count": 4,
      "outputs": [
        {
          "output_type": "stream",
          "name": "stdout",
          "text": [
            "Looking in indexes: https://pypi.org/simple, https://us-python.pkg.dev/colab-wheels/public/simple/\n",
            "Requirement already satisfied: ipython===7.9.0 in /usr/local/lib/python3.8/dist-packages (7.9.0)\n",
            "Requirement already satisfied: setuptools>=18.5 in /usr/local/lib/python3.8/dist-packages (from ipython===7.9.0) (57.4.0)\n",
            "Requirement already satisfied: traitlets>=4.2 in /usr/local/lib/python3.8/dist-packages (from ipython===7.9.0) (5.7.1)\n",
            "Requirement already satisfied: pexpect in /usr/local/lib/python3.8/dist-packages (from ipython===7.9.0) (4.8.0)\n",
            "Requirement already satisfied: pygments in /usr/local/lib/python3.8/dist-packages (from ipython===7.9.0) (2.6.1)\n",
            "Collecting jedi>=0.10\n",
            "  Downloading jedi-0.18.2-py2.py3-none-any.whl (1.6 MB)\n",
            "\u001b[K     |████████████████████████████████| 1.6 MB 27.2 MB/s \n",
            "\u001b[?25hRequirement already satisfied: backcall in /usr/local/lib/python3.8/dist-packages (from ipython===7.9.0) (0.2.0)\n",
            "Requirement already satisfied: decorator in /usr/local/lib/python3.8/dist-packages (from ipython===7.9.0) (4.4.2)\n",
            "Requirement already satisfied: prompt-toolkit<2.1.0,>=2.0.0 in /usr/local/lib/python3.8/dist-packages (from ipython===7.9.0) (2.0.1)\n",
            "Requirement already satisfied: pickleshare in /usr/local/lib/python3.8/dist-packages (from ipython===7.9.0) (0.7.5)\n",
            "Requirement already satisfied: parso<0.9.0,>=0.8.0 in /usr/local/lib/python3.8/dist-packages (from jedi>=0.10->ipython===7.9.0) (0.8.3)\n",
            "Requirement already satisfied: six>=1.9.0 in /usr/local/lib/python3.8/dist-packages (from prompt-toolkit<2.1.0,>=2.0.0->ipython===7.9.0) (1.15.0)\n",
            "Requirement already satisfied: wcwidth in /usr/local/lib/python3.8/dist-packages (from prompt-toolkit<2.1.0,>=2.0.0->ipython===7.9.0) (0.2.5)\n",
            "Requirement already satisfied: ptyprocess>=0.5 in /usr/local/lib/python3.8/dist-packages (from pexpect->ipython===7.9.0) (0.7.0)\n",
            "Installing collected packages: jedi\n",
            "Successfully installed jedi-0.18.2\n"
          ]
        }
      ]
    },
    {
      "cell_type": "markdown",
      "metadata": {
        "id": "EKxfJiQYIkv9"
      },
      "source": [
        "**Little Changes in Installtion**\n",
        "1. upgrade table from 3.7.0 to 3.6.1\n",
        "2. upgrade ipython to avoid crashing colab session, while doing restart the runtime.\n",
        "\n",
        "After, installing ipython you saw a \"RESTART RUNTIME\" button in \"ipython\" cell output. \n",
        "\n",
        "Click on it to restart the runtime and you are good to go. \n",
        "\n",
        "No need to update anything run as usual.\n"
      ]
    },
    {
      "cell_type": "code",
      "execution_count": 5,
      "metadata": {
        "colab": {
          "base_uri": "https://localhost:8080/"
        },
        "id": "hoGEpudx0Fcn",
        "outputId": "1f991f63-975e-4483-c189-fccf583fe52f"
      },
      "outputs": [
        {
          "output_type": "stream",
          "name": "stdout",
          "text": [
            "Looking in indexes: https://pypi.org/simple, https://us-python.pkg.dev/colab-wheels/public/simple/\n",
            "Collecting tables==3.6.1\n",
            "  Downloading tables-3.6.1-cp38-cp38-manylinux1_x86_64.whl (4.3 MB)\n",
            "\u001b[K     |████████████████████████████████| 4.3 MB 26.1 MB/s \n",
            "\u001b[?25hRequirement already satisfied: numpy>=1.9.3 in /usr/local/lib/python3.8/dist-packages (from tables==3.6.1) (1.18.5)\n",
            "Requirement already satisfied: numexpr>=2.6.2 in /usr/local/lib/python3.8/dist-packages (from tables==3.6.1) (2.8.4)\n",
            "Installing collected packages: tables\n",
            "  Attempting uninstall: tables\n",
            "    Found existing installation: tables 3.7.0\n",
            "    Uninstalling tables-3.7.0:\n",
            "      Successfully uninstalled tables-3.7.0\n",
            "Successfully installed tables-3.6.1\n"
          ]
        }
      ],
      "source": [
        "!pip install -U tables==3.6.1"
      ]
    },
    {
      "cell_type": "code",
      "execution_count": 6,
      "metadata": {
        "id": "Vu4CYtxz_-oG"
      },
      "outputs": [],
      "source": [
        "#!pip install -U ipython"
      ]
    },
    {
      "cell_type": "markdown",
      "metadata": {
        "id": "bo-r5gkVH40O"
      },
      "source": [
        "**Click on above \"RESTART RUNTIME\" button**\n",
        "\n",
        "![button.PNG](data:image/png;base64,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)"
      ]
    },
    {
      "cell_type": "code",
      "execution_count": 7,
      "metadata": {
        "id": "4U2Szt_9xE6z"
      },
      "outputs": [],
      "source": [
        "#!python -m spacy download en"
      ]
    },
    {
      "cell_type": "code",
      "execution_count": 8,
      "metadata": {
        "colab": {
          "base_uri": "https://localhost:8080/"
        },
        "id": "CHVBIeez3cyR",
        "outputId": "80d1940a-3ddd-477c-95c9-bf39289145d1"
      },
      "outputs": [
        {
          "output_type": "stream",
          "name": "stdout",
          "text": [
            "Looking in indexes: https://pypi.org/simple, https://us-python.pkg.dev/colab-wheels/public/simple/\n",
            "Collecting nest_asyncio==1.3.3\n",
            "  Downloading nest_asyncio-1.3.3-py3-none-any.whl (4.7 kB)\n",
            "Installing collected packages: nest-asyncio\n",
            "Successfully installed nest-asyncio-1.3.3\n"
          ]
        }
      ],
      "source": [
        "!pip install nest_asyncio==1.3.3"
      ]
    },
    {
      "cell_type": "code",
      "execution_count": 9,
      "metadata": {
        "colab": {
          "base_uri": "https://localhost:8080/"
        },
        "id": "pFVs_ym8EUTy",
        "outputId": "34244adf-580a-4ace-d1a6-d781454ddbc6"
      },
      "outputs": [
        {
          "output_type": "stream",
          "name": "stdout",
          "text": [
            "\u001b(0lqqqqqqqqqqqqqqqqqqqqqqqqqqqqqqqqqqqqqqqqqqqqqqqqqqqqqqqqqqqqqqqqqqqqqqqqqqqqqqqqk\u001b(B\n",
            "\u001b(0x\u001b(B Rasa Open Source reports anonymous usage telemetry to help improve the product \u001b(0x\u001b(B\n",
            "\u001b(0x\u001b(B for all its users.                                                             \u001b(0x\u001b(B\n",
            "\u001b(0x\u001b(B                                                                                \u001b(0x\u001b(B\n",
            "\u001b(0x\u001b(B If you'd like to opt-out, you can use `rasa telemetry disable`.                \u001b(0x\u001b(B\n",
            "\u001b(0x\u001b(B To learn more, check out https://rasa.com/docs/rasa/telemetry/telemetry.       \u001b(0x\u001b(B\n",
            "\u001b(0mqqqqqqqqqqqqqqqqqqqqqqqqqqqqqqqqqqqqqqqqqqqqqqqqqqqqqqqqqqqqqqqqqqqqqqqqqqqqqqqqj\u001b(B\n",
            "Event loop ready.\n"
          ]
        }
      ],
      "source": [
        "import os\n",
        "import rasa\n",
        "import nest_asyncio\n",
        "\n",
        "nest_asyncio.apply()\n",
        "print(\"Event loop ready.\")"
      ]
    },
    {
      "cell_type": "code",
      "execution_count": 10,
      "metadata": {
        "id": "FZsqX3irEv7O"
      },
      "outputs": [],
      "source": [
        "from rasa.cli.scaffold import create_initial_project"
      ]
    },
    {
      "cell_type": "code",
      "execution_count": 11,
      "metadata": {
        "id": "KnIOywUKE6F5"
      },
      "outputs": [],
      "source": [
        "project = \"test-project\"\n",
        "create_initial_project(project)"
      ]
    },
    {
      "cell_type": "code",
      "execution_count": 12,
      "metadata": {
        "colab": {
          "base_uri": "https://localhost:8080/"
        },
        "id": "PjxVHRJCE-u5",
        "outputId": "9af33959-8e6e-4211-ae54-09a565aa2af1"
      },
      "outputs": [
        {
          "output_type": "stream",
          "name": "stdout",
          "text": [
            "['config.yml', 'data', 'endpoints.yml', 'tests', 'actions', 'domain.yml', 'credentials.yml']\n"
          ]
        }
      ],
      "source": [
        "# move into project directory and show files\n",
        "os.chdir(project)\n",
        "print(os.listdir(\".\"))"
      ]
    },
    {
      "cell_type": "code",
      "execution_count": 13,
      "metadata": {
        "colab": {
          "base_uri": "https://localhost:8080/"
        },
        "id": "5N_1uA1KPkBt",
        "outputId": "1484452f-caf2-484b-d0f1-079d0e93ac28"
      },
      "outputs": [
        {
          "output_type": "stream",
          "name": "stdout",
          "text": [
            "config.yml data/ domain.yml models/\n"
          ]
        }
      ],
      "source": [
        "config = \"config.yml\"\n",
        "training_files = \"data/\"\n",
        "domain = \"domain.yml\"\n",
        "output = \"models/\"\n",
        "print(config, training_files, domain, output)"
      ]
    },
    {
      "cell_type": "markdown",
      "metadata": {
        "id": "4NeZbYh0Jc3o"
      },
      "source": [
        "### Sometime it may not run on first go. So, try to execute below line 3 time and it work fine. It is bug in rasa."
      ]
    },
    {
      "cell_type": "code",
      "execution_count": 18,
      "metadata": {
        "colab": {
          "base_uri": "https://localhost:8080/"
        },
        "id": "PrdOIlziPxEo",
        "outputId": "9b0af9d2-9a2e-4ed4-ec47-9beb966ffc44"
      },
      "outputs": [
        {
          "output_type": "stream",
          "name": "stdout",
          "text": [
            "\u001b[94mThe configuration for policies and pipeline was chosen automatically. It was written into the config file at 'config.yml'.\u001b[0m\n",
            "\u001b[94mTraining NLU model...\u001b[0m\n"
          ]
        },
        {
          "output_type": "stream",
          "name": "stderr",
          "text": [
            "Epochs: 100%|██████████| 100/100 [01:10<00:00,  1.42it/s, t_loss=2.087, i_acc=0.990]\n"
          ]
        },
        {
          "output_type": "stream",
          "name": "stdout",
          "text": [
            "\u001b[94mNLU model training completed.\u001b[0m\n",
            "\u001b[94mCore stories/configuration did not change. No need to retrain Core model.\u001b[0m\n",
            "\u001b[92mYour Rasa model is trained and saved at '/content/test-project/models/20221227-143636.tar.gz'.\u001b[0m\n",
            "models/20221227-143636.tar.gz\n"
          ]
        }
      ],
      "source": [
        "model_path = rasa.train(domain, config, [training_files], output)\n",
        "print(model_path)"
      ]
    },
    {
      "cell_type": "code",
      "execution_count": 24,
      "metadata": {
        "colab": {
          "base_uri": "https://localhost:8080/"
        },
        "id": "--XV_jksm6mN",
        "outputId": "b3af7260-5431-4898-eb6b-3e90d51b91c2"
      },
      "outputs": [
        {
          "name": "stdout",
          "output_type": "stream",
          "text": [
            "Your bot is ready to talk! Type your messages here or send '/stop'.\n",
            "permisi\n",
            "\u001b[92mSelamat Datang di Chatbox Seputar Stunting !\u001b[0m\n",
            "saya ingin tahu tentang stunting\n",
            "\u001b[92mOke, Silahkan bertanya\u001b[0m\n",
            "Adakah cara cepat/ tips mencegah stunting?\n",
            "\u001b[92mSayangnya tidak ada cara yang cepat, namun ada cara yang mudah yang \u001b[0m\n",
            "\u001b[92mharus dilakukan bertahun-tahun. Pencegahan stunting adalah perjalanan \u001b[0m\n",
            "\u001b[92myang cukup panjang dari mempersiapkan remaja putri sebelum menempuh \u001b[0m\n",
            "\u001b[92mkehamilan, perencanaan keluarga dan kehamilan yang matang, menjaga \u001b[0m\n",
            "\u001b[92mkehamilan yang sehat, nutrisi saat hamil dan menyusui, manajemen laktasi \u001b[0m\n",
            "\u001b[92myang baik, manajemen MPASI yang adekuat, mencegah penyakit dengan \u001b[0m\n",
            "\u001b[92mimunisasi yang LENGKAP dan pemantauan pertumbuhan anak terus-menerus. \u001b[0m\n",
            "\u001b[92mJadi tidak ada cara cepat.\u001b[0m\n",
            "Apa perbedaan stunting dan genetik?\n",
            "\u001b[92mStunting adalah keadaan pendek yang khas disebabkan oleh gangguan \u001b[0m\n",
            "\u001b[92mnutrisi, infeksi berulang yang tidak tertangani dalam jangka waktu yang \u001b[0m\n",
            "\u001b[92mlama. Silahkan evaluasi kurva pertumbuhan dari sejak lahir, adalah \u001b[0m\n",
            "\u001b[92mpertumbuhan janin terhambat? Adakah riwayat infeksi berulang akibat \u001b[0m\n",
            "\u001b[92mimunisasi tidak lengkap? adakah riwayat gagal tumbuh? Malnutrisi yang tidak \u001b[0m\n",
            "\u001b[92mteratasi dalam waktu lama sehingga menyebabkan badannya pendek?\u001b[0m\n",
            "apa nutrisi untuk mencegah stunting?\n",
            "\u001b[92mNutrisi untuk anak di atas 2 tahun mengikuti aturan “my plate” \u001b[0m\n",
            "\u001b[92mterdiri dari ¼ sayuran, ¼ buah, ¼ karbohidrat (grain) dan ¼ protein. Pilih \u001b[0m\n",
            "\u001b[92mprotein hewani dan berbagai jenis sayuran berwarna-warni.\u001b[0m\n",
            "Apakah stunting setelah usia 2 tahun sama sekali tidak bisa diperbaiki?\n",
            "\u001b[92mAda dua masalah akibat stunting yaitu pertumbuhan otak dan tinggi \u001b[0m\n",
            "\u001b[92mbadan. Pertumbuhan otak sangat pesat terjadi pada 2 tahun pertama sehingga \u001b[0m\n",
            "\u001b[92msetelah usia 2 tahun, tidak bisa diperbaiki. Tinggi badan masih bisa \u001b[0m\n",
            "\u001b[92mdiperbaiki dengan berharap pada fase pubertas. Oleh karena itu JANGAN \u001b[0m\n",
            "\u001b[92mmengobati stunting tapi lakukanlah PENCEGAHAN. Periode emas yang masih bisa \u001b[0m\n",
            "\u001b[92mmemperbaiki stunting adalah sebelum usia 2 tahun, dan hasilnya pun tidak \u001b[0m\n",
            "\u001b[92mbisa kembali sempurna, artinya bisa diperbaiki namun optimal.\u001b[0m\n",
            "vitamin pencegah stunting\n",
            "\u001b[92mStunting dapat dicegah dengan pemberian nutrisi yang tepat. Nutrisi \u001b[0m\n",
            "\u001b[92mpembangun tumbuh adalah makronutrien yang terdiri dari Karbohidrat, protein \u001b[0m\n",
            "\u001b[92mdan lemak. Sedangkan vitamin dan mineral merupakan mikronutrien yang \u001b[0m\n",
            "\u001b[92mmerupakan zat pendukung, bukan pembangun. Vitamin dan mineral terbaik \u001b[0m\n",
            "\u001b[92mberasal dari makanan, bukan dari apotek. Tidak ada vitamin dan suplemen \u001b[0m\n",
            "\u001b[92mpencegah stunting.\u001b[0m\n",
            "tips bayi kenyang 10-15 menit\n",
            "\u001b[92mTingkatkan produksi ASI dengan memompa payudara salaam 15-20 menit \u001b[0m\n",
            "\u001b[92msetelah menyusu, dan berikan ASI perah kepada bayi setelah menyusu.\u001b[0m\n",
            "Menilai perkembangan bayi prematur\n",
            "\u001b[92mPertumbuhan bayi prematur dipantau menggunakan kurva Fenton sampai \u001b[0m\n",
            "\u001b[92musia koreksi 10 minggu, kemudian pindah ke kurva WHO. Sedangkan perkembangan \u001b[0m\n",
            "\u001b[92m(verbal, motoric halus dan kasar) menggunakan usia koreksi sampai usia 2 \u001b[0m\n",
            "\u001b[92mtahun, lalu dianggap sama dengan anak lain yang seusianya.\u001b[0m\n",
            "Apakah stunting jika BB tidak naik?\n",
            "\u001b[92mBUKAN, stunting adalah ukuran tinggi badan yaitu pendek dibandingkan \u001b[0m\n",
            "\u001b[92mdengan anak seusianya. Stunting disebabkan oleh malnutrisi yang berlangsung \u001b[0m\n",
            "\u001b[92mlama, oleh karena itu berat badan yang tidak naik merupakan awal menuju \u001b[0m\n",
            "\u001b[92mkepada stunting, ayo segera diperbaiki.\u001b[0m\n",
            "Cara pemberian besi pada anak-anak dan remaja\n",
            "\u001b[92mRemaja putri (terutama yang sudah haid) dianjurkan mengkonsumsi \u001b[0m\n",
            "\u001b[92msuplemen besi tiap minggu. Pada anak di atas 1 tahun, dianjurkan pemeriksaan \u001b[0m\n",
            "\u001b[92mzat besi darah sebelum memutuskan pemberian suplemen zat besi. Pemeriksaan \u001b[0m\n",
            "\u001b[92mzat besi meliputi darah lengkap, serum besi, TIBC dan ferritin.\u001b[0m\n",
            "Bagaimana pemberian zat besi pada bayi di bawah 12 bulan?\n",
            "\u001b[92mPada bayi dengan ASI eksklusif dianjurkan pemberian zat besi usia 4-6 \u001b[0m\n",
            "\u001b[92mbulan (tanpa pemeriksaan lab terlebih darhulu), untuk bayi prematur diberikan \u001b[0m\n",
            "\u001b[92mzat besi sejak usia 1 bulan, lalu setelah usia 6 bulan dianjurkan mendapatkan \u001b[0m\n",
            "\u001b[92masupan tinggi zat besi dari MPASI (tinggi protein hewani).\u001b[0m\n",
            "Perlukah menambah sufor saat MPASI?\n",
            "\u001b[92mSaat usia 6-12 bulan, ada dua manajemen nutrisi yang harus dievaluasi yaitu: \u001b[0m\n",
            "\u001b[92m-Apakah ASI cukup? \u001b[0m\n",
            "\u001b[92m-Apakah kuantitas dan kualitas MPASI cukup? \u001b[0m\n",
            "\u001b[92mPemberian sufor hanya dilakukan jika ASI tidak cukup. \u001b[0m\n",
            "\u001b[92mPemberian ASI pada masa MPASI tetap dominan mencapai 120 ml x Berat badan perharinya.\u001b[0m\n",
            "Penanganan bayi kurang dari 6 bulan dan kenaikan berat badan melambat\n",
            "\u001b[92mPada fase ini, harus evaluasi manajemen laktasi dengan langkah sebagai berikut: \u001b[0m\n",
            "\u001b[92m-Apakah produksi ASI cukup? \u001b[0m\n",
            "\u001b[92mCobalah pompa ASI setiap 2-3 jam sekali, dan lihat hasilnya, produksi ASI dikatakan cukup \u001b[0m\n",
            "\u001b[92mjika per porsi sekitar 20ml x Berat badan anak dan sekitar 200 ml x berat badan anak per \u001b[0m\n",
            "\u001b[92mhari. Contoh jika berat badan banak 5 kg, maka produksi ASI dikatakan cukup jika per porsi \u001b[0m\n",
            "\u001b[92m100 ml dan sehari 1000 ml. \u001b[0m\n",
            "\u001b[92m-Jika ASI tidak cukup lakukanlah stimulai produksi ASI dengan menyusui + pompa setiap 2-3 jam. \u001b[0m\n",
            "\u001b[92m-Menyusui bayi sekitar 10-15 menit ditambah dengan pompa ASI 15-20 menit setelah menyusui. \u001b[0m\n",
            "\u001b[92m-JIka bayi dalam keadaan malnutrisi, berikan PASI (pengganti ASI) selama menunggu produksi ASI cukup.\u001b[0m\n",
            "Kasus bayi usia 6-12 bulan mengalami pertumbuhan melambat.\n",
            "\u001b[92mPada fase ini harus dievaluasi manajemen laktasi dan manajemen MPASI. \u001b[0m\n",
            "\u001b[92mManajemen laktasi dapat melihat no.7. Kemudian evaluasi apakah manajemen MPASI sudah baik? \u001b[0m\n",
            "\u001b[92mMPASI setidaknya diberikan 3-4x sehari dengan kualitas dominan protein hewani. MPASI usia 6-9 bulan \u001b[0m\n",
            "\u001b[92mmemiliki tekstur yang lembut, lumat namun tidak encer. Porsi MPASI sekitar 80-120 ml. \u001b[0m\n",
            "\u001b[92m-Evaluasi juga bagaimana 'moment' pemberian MPASI, apakah bayi diberikan makan saat kenyang \u001b[0m\n",
            "\u001b[92m(setelah menyusu) sehingga bayi cenderung menolak makan? Atau kurang variasi menu sehingga bosan.\u001b[0m\n",
            "Bagaimana manajemen sufor?\n",
            "\u001b[92mSaat anak gagal tumbuh di periode ASI (0-6 bulan), lakukanlah 2 hal yaitu: cukupkan gizinya \u001b[0m\n",
            "\u001b[92mdengan PASI (pengganti ASI) dan lakukan relaktasi (mengembalikan/meningkatkan produksi ASI). \u001b[0m\n",
            "\u001b[92mPASI (sufor) dapat diberikan seperti memberikan ASI perah yaitu perporsi sekitar 20 mlx berat badan \u001b[0m\n",
            "\u001b[92mdan setiap 8-12x sehari. \u001b[0m\n",
            "\u001b[92mJangan lupa merangsang produksi ASI sehingga nantinya, kebutuhan PASI akan menurun seiring dengan \u001b[0m\n",
            "\u001b[92mbertambahnya produksi ASI.\u001b[0m\n",
            "Cara mengatasi Ibu hamil defisiensi besi\n",
            "\u001b[92mPencegahan anemia pada ibu hamil harus dilakukan sebelum hamil. Jika anemia sudah terjadi saat \u001b[0m\n",
            "\u001b[92mhamil maka kondisi ini sudah terlambat, sehingga harus diatasi segera, pada umumnya dokter kandungan \u001b[0m\n",
            "\u001b[92makan memberikan suplemen besi tergantung pada derajat keparahan defisiensinya (dapat berupa infus zat besi, \u001b[0m\n",
            "\u001b[92msuplemen minum). Namun perlu diingat, penyebab utama defisiensi besi adalah asupan besi yang kurang sehingga \u001b[0m\n",
            "\u001b[92mwajib mengubah pola makan sehingga tidak terulang di saat fase menyusui.\u001b[0m\n",
            "Bagaimana jika bayi usia 12-24 bulan kenaikan berat badan melambat?\n",
            "\u001b[92mSaat fase ini, evaluasi apakah anak masih ASI? Di usia ini, pemberian ASI harus dibatasi sehingga \u001b[0m\n",
            "\u001b[92masupan nutrisi dominan didapatkan dari makanan padat. \u001b[0m\n",
            "\u001b[92mEvaluasi juga manajemen nutrisi misalnya apakah kualitas kurang baik (kurang protein hewani?), apakah frekuensi \u001b[0m\n",
            "\u001b[92mdan jumlah tidak cukup? (porsi dapat mencapai 1/3 porsi dewasa), apakah tekstur masih lunak dan ecer sehingga \u001b[0m\n",
            "\u001b[92mporsi banyak namun kurang padat. \u001b[0m\n",
            "\u001b[92mSangat jarang gangguan pertumbuhan disebabkan oleh penyakit,oleh karena itu evaluasi dahulu manajemen nutrisinya.\u001b[0m\n",
            "/stop\n"
          ]
        }
      ],
      "source": [
        "from rasa.jupyter import chat\n",
        "\n",
        "endpoints = 'endpoints.yml'\n",
        "\n",
        "chat(model_path, endpoints)"
      ]
    },
    {
      "cell_type": "code",
      "execution_count": 25,
      "metadata": {
        "id": "RUCSgxbCo1Cq",
        "colab": {
          "base_uri": "https://localhost:8080/",
          "height": 694
        },
        "outputId": "3e831449-fba2-4b5d-dd96-2770fefef13b"
      },
      "outputs": [
        {
          "output_type": "stream",
          "name": "stdout",
          "text": [
            "Your bot is ready to talk! Type your messages here or send '/stop'.\n",
            "permisi\n",
            "\u001b[92mSelamat Datang di Chatbox Seputar Stunting !\u001b[0m\n",
            "mau tanya dong\n",
            "\u001b[92mOke, Silahkan bertanya\u001b[0m\n",
            "Adakah cara cepat/ tips mencegah stunting?\n",
            "\u001b[92mSayangnya tidak ada cara yang cepat, namun ada cara yang mudah yang \u001b[0m\n",
            "\u001b[92mharus dilakukan bertahun-tahun. Pencegahan stunting adalah perjalanan \u001b[0m\n",
            "\u001b[92myang cukup panjang dari mempersiapkan remaja putri sebelum menempuh \u001b[0m\n",
            "\u001b[92mkehamilan, perencanaan keluarga dan kehamilan yang matang, menjaga \u001b[0m\n",
            "\u001b[92mkehamilan yang sehat, nutrisi saat hamil dan menyusui, manajemen laktasi \u001b[0m\n",
            "\u001b[92myang baik, manajemen MPASI yang adekuat, mencegah penyakit dengan \u001b[0m\n",
            "\u001b[92mimunisasi yang LENGKAP dan pemantauan pertumbuhan anak terus-menerus. \u001b[0m\n",
            "\u001b[92mJadi tidak ada cara cepat.\u001b[0m\n",
            "terima kasih\n",
            "\u001b[92mSampai Berjumpa Lagi di Chatbox Seputar Stunting ! \u001b[0m\n",
            "\u001b[92m by Selgi Agilsa Ebimbi (20.01.53.0035)\u001b[0m\n"
          ]
        },
        {
          "output_type": "display_data",
          "data": {
            "text/html": [
              "<img src=\"https://t4.ftcdn.net/jpg/03/29/44/25/360_F_329442520_bs9DE1vhchdtXtbsJXcwGQTpjZd5NzDo.jpg\"/>"
            ],
            "text/plain": [
              "<IPython.core.display.Image object>"
            ]
          },
          "metadata": {}
        },
        {
          "name": "stdout",
          "output_type": "stream",
          "text": [
            "/stop\n"
          ]
        }
      ],
      "source": [
        "chat(model_path, endpoints)"
      ]
    }
  ],
  "metadata": {
    "colab": {
      "provenance": [],
      "include_colab_link": true
    },
    "kernelspec": {
      "display_name": "Python 3",
      "name": "python3"
    }
  },
  "nbformat": 4,
  "nbformat_minor": 0
}